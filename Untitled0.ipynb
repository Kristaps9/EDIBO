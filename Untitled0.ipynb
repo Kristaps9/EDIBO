{
  "nbformat": 4,
  "nbformat_minor": 0,
  "metadata": {
    "colab": {
      "name": "Untitled0.ipynb",
      "provenance": [],
      "authorship_tag": "ABX9TyN+C/Gi6aa4k0wBP9AvD9xq",
      "include_colab_link": true
    },
    "kernelspec": {
      "name": "python3",
      "display_name": "Python 3"
    }
  },
  "cells": [
    {
      "cell_type": "markdown",
      "metadata": {
        "id": "view-in-github",
        "colab_type": "text"
      },
      "source": [
        "<a href=\"https://colab.research.google.com/github/Kristaps9/EDIBO/blob/master/Untitled0.ipynb\" target=\"_parent\"><img src=\"https://colab.research.google.com/assets/colab-badge.svg\" alt=\"Open In Colab\"/></a>"
      ]
    },
    {
      "cell_type": "code",
      "metadata": {
        "id": "cMwBNhD-eIPF",
        "colab_type": "code",
        "colab": {
          "base_uri": "https://localhost:8080/",
          "height": 109
        },
        "outputId": "cd05190d-aaca-4036-e96f-0684469043b5"
      },
      "source": [
        "dict={\"float\" : 3.14, \"tuple\" : (111,222), \"int\" : 666, \"list\": [\"kas ieksa?\"]}\n",
        "print(type(dict['float']))\n",
        "\n",
        "print(type(dict[\"tuple\"]))\n",
        "print(type(dict[\"int\"]))\n",
        "print(type(dict[\"list\"]))\n",
        "print(type (dict))"
      ],
      "execution_count": 56,
      "outputs": [
        {
          "output_type": "stream",
          "text": [
            "<class 'float'>\n",
            "<class 'tuple'>\n",
            "<class 'int'>\n",
            "<class 'list'>\n",
            "<class 'dict'>\n"
          ],
          "name": "stdout"
        }
      ]
    }
  ]
}