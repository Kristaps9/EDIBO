{
  "nbformat": 4,
  "nbformat_minor": 0,
  "metadata": {
    "colab": {
      "name": "Untn=int(input(\"ievadi cik stavus gribi: \")) #šeit ievadam skaitli,cik daudz \"stavus gribam\" a=[] # nav ne jausmas ,ko vins dara for i in range(n): #uztaisa stabinus no ievadita skaitļa a.append([]) a[i].append(1) # pievieno 1 stabinu pie a vertibitled0.ipynb",
      "provenance": [],
      "collapsed_sections": [],
      "authorship_tag": "ABX9TyMmGARx0OgD5hM7VVnX57Vl",
      "include_colab_link": true
    },
    "kernelspec": {
      "name": "python3",
      "display_name": "Python 3"
    }
  },
  "cells": [
    {
      "cell_type": "markdown",
      "metadata": {
        "id": "view-in-github",
        "colab_type": "text"
      },
      "source": [
        "<a href=\"https://colab.research.google.com/github/Kristaps9/EDIBO/blob/master/Untn%3Dint(input(%22ievadi_cik_stavus_gribi_%22))_%C5%A1eit_ievadam_skaitli%2Ccik_daudz_%22stavus_gribam%22_a%3D%5B%5D_nav_ne_jausmas_%2Cko_vins_dara_for_i_in_range(n)_uztaisa_stabinus_no_ievadita_skait%C4%BCa_a_append(%5B%5D)_a%5Bi%5D_append(1)_pievieno_1_stabinu_pie_a_vertibitled0.ipynb\" target=\"_parent\"><img src=\"https://colab.research.google.com/assets/colab-badge.svg\" alt=\"Open In Colab\"/></a>"
      ]
    },
    {
      "cell_type": "code",
      "metadata": {
        "id": "cMwBNhD-eIPF",
        "colab_type": "code",
        "colab": {
          "base_uri": "https://localhost:8080/",
          "height": 219
        },
        "outputId": "a48706be-1d42-4a4f-bff3-2a8ee5ad7224"
      },
      "source": [
        "n=int(input(\"ievadi cik stavus gribi: \")) #šeit ievadam skaitli,cik daudz \"stavus gribam\"\n",
        "a=[] # nav ne jausmas ,ko vins dara\n",
        "for i in range(n): #uztaisa stabinus no ievadita skaitļa\n",
        "    a.append([])\n",
        "    a[i].append(1) # pievieno 1 stabinu pie a vertibas\n",
        "    for j in range(1,i):\n",
        "        a[i].append(a[i-1][j-1]+a[i-1][j])\n",
        "    if(n!=1):\n",
        "        a[i].append(1)\n",
        "for i in range(n):\n",
        "    print(\"   \"*(n-i),end=\" \") #end - noforme horizontali , sep - ieliek pa vidu atstarpi (var ielikt jebkadu simbolu)\n",
        "    for j in range(0,i+1):\n",
        "        print('{0:5}'.format(a[i][j]),end=' ') # printē attieciba 0:6 \n",
        "    print()\n",
        "    "
      ],
      "execution_count": 118,
      "outputs": [
        {
          "output_type": "stream",
          "text": [
            "ievadi cik stavus gribi: 10\n",
            "                                   1 \n",
            "                                1     1 \n",
            "                             1     2     1 \n",
            "                          1     3     3     1 \n",
            "                       1     4     6     4     1 \n",
            "                    1     5    10    10     5     1 \n",
            "                 1     6    15    20    15     6     1 \n",
            "              1     7    21    35    35    21     7     1 \n",
            "           1     8    28    56    70    56    28     8     1 \n",
            "        1     9    36    84   126   126    84    36     9     1 \n"
          ],
          "name": "stdout"
        }
      ]
    },
    {
      "cell_type": "code",
      "metadata": {
        "id": "3_w0kRImeM5Z",
        "colab_type": "code",
        "colab": {}
      },
      "source": [
        "5\n",
        "\n"
      ],
      "execution_count": null,
      "outputs": []
    }
  ]
}